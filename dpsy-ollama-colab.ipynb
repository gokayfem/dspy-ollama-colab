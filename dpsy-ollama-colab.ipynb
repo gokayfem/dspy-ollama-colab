{
  "cells": [
    {
      "cell_type": "code",
      "execution_count": null,
      "metadata": {
        "id": "UenclgJoT81-"
      },
      "outputs": [],
      "source": [
        "! sudo apt-get -qq install -y pciutils"
      ]
    },
    {
      "cell_type": "code",
      "execution_count": null,
      "metadata": {
        "id": "CbQfUPREUCqQ"
      },
      "outputs": [],
      "source": [
        "! curl https://ollama.ai/install.sh | sh"
      ]
    },
    {
      "cell_type": "code",
      "execution_count": null,
      "metadata": {
        "id": "3oCyWVQkWUY0"
      },
      "outputs": [],
      "source": [
        "! pip -q install dspy-ai"
      ]
    },
    {
      "cell_type": "code",
      "execution_count": 3,
      "metadata": {
        "id": "5aL8PvxqUIvZ"
      },
      "outputs": [],
      "source": [
        "import os\n",
        "import threading\n",
        "import subprocess\n",
        "import requests\n",
        "import json\n",
        "\n",
        "def ollama():\n",
        "    os.environ['OLLAMA_HOST'] = '0.0.0.0:11434'\n",
        "    os.environ['OLLAMA_ORIGINS'] = '*'\n",
        "    subprocess.Popen([\"ollama\", \"serve\"])"
      ]
    },
    {
      "cell_type": "code",
      "execution_count": 4,
      "metadata": {
        "id": "jAx2TaYBULZb"
      },
      "outputs": [],
      "source": [
        "ollama_thread = threading.Thread(target=ollama)\n",
        "ollama_thread.start()"
      ]
    },
    {
      "cell_type": "code",
      "execution_count": null,
      "metadata": {
        "id": "ABfgoD8kUNIz"
      },
      "outputs": [],
      "source": [
        "# Stop this cell after you see success!\n",
        "! ollama run llama3:8b"
      ]
    },
    {
      "cell_type": "code",
      "execution_count": 6,
      "metadata": {
        "id": "snRM22V0URCd"
      },
      "outputs": [],
      "source": [
        "ollama_thread = threading.Thread(target=ollama)\n",
        "ollama_thread.start()"
      ]
    },
    {
      "cell_type": "code",
      "execution_count": 21,
      "metadata": {
        "colab": {
          "base_uri": "https://localhost:8080/"
        },
        "id": "kUFanDzbUuqZ",
        "outputId": "3cc25c01-17aa-4c7e-f3ce-e62da8d82182"
      },
      "outputs": [
        {
          "name": "stderr",
          "output_type": "stream",
          "text": [
            "100%|██████████| 7473/7473 [00:00<00:00, 20501.18it/s]\n",
            "100%|██████████| 1319/1319 [00:00<00:00, 20390.42it/s]\n"
          ]
        }
      ],
      "source": [
        "from dspy import OllamaLocal\n",
        "import dspy\n",
        "from dspy.datasets.gsm8k import GSM8K, gsm8k_metric\n",
        "\n",
        "llama3_lm = OllamaLocal(model=\"llama3:8b\",\n",
        "                        model_type=\"text\",\n",
        "                        base_url=\"http://localhost:11434\",\n",
        "                        temperature=0.7,)\n",
        "\n",
        "dspy.settings.configure(lm=llama3_lm)\n",
        "\n",
        "# Load math questions from the GSM8K dataset\n",
        "gsm8k = GSM8K()\n",
        "gsm8k_trainset, gsm8k_devset = gsm8k.train[:10], gsm8k.dev[:10]"
      ]
    },
    {
      "cell_type": "code",
      "execution_count": 23,
      "metadata": {
        "id": "s2_7sI82U9z1"
      },
      "outputs": [],
      "source": [
        "class CoT(dspy.Module):\n",
        "    def __init__(self):\n",
        "        super().__init__()\n",
        "        self.prog = dspy.ChainOfThought(\"question -> answer\")\n",
        "\n",
        "    def forward(self, question):\n",
        "        return self.prog(question=question)"
      ]
    },
    {
      "cell_type": "code",
      "execution_count": 24,
      "metadata": {
        "colab": {
          "base_uri": "https://localhost:8080/"
        },
        "id": "uFxdRafHW5-_",
        "outputId": "a3c278b7-3f60-4a15-d678-61f265aea8ee"
      },
      "outputs": [
        {
          "name": "stderr",
          "output_type": "stream",
          "text": [
            "100%|██████████| 10/10 [00:57<00:00,  5.79s/it]\n"
          ]
        }
      ],
      "source": [
        "from dspy.teleprompt import BootstrapFewShot\n",
        "\n",
        "# Set up the optimizer: we want to \"bootstrap\" (i.e., self-generate) 4-shot examples of our CoT program.\n",
        "config = dict(max_bootstrapped_demos=4, max_labeled_demos=4)\n",
        "\n",
        "# Optimize! Use the `gsm8k_metric` here. In general, the metric is going to tell the optimizer how well it's doing.\n",
        "teleprompter = BootstrapFewShot(metric=gsm8k_metric, **config)\n",
        "optimized_cot = teleprompter.compile(CoT(), trainset=gsm8k_trainset)"
      ]
    },
    {
      "cell_type": "code",
      "execution_count": 25,
      "metadata": {
        "colab": {
          "base_uri": "https://localhost:8080/"
        },
        "id": "Ll3CTwNjW8A7",
        "outputId": "99a3514a-92a4-400b-8498-9dbe56fe87db"
      },
      "outputs": [
        {
          "name": "stderr",
          "output_type": "stream",
          "text": [
            "Average Metric: 1 / 10  (10.0): 100%|██████████| 10/10 [01:32<00:00,  9.21s/it]\n"
          ]
        },
        {
          "data": {
            "text/plain": [
              "10.0"
            ]
          },
          "execution_count": 25,
          "metadata": {},
          "output_type": "execute_result"
        }
      ],
      "source": [
        "from dspy.evaluate import Evaluate\n",
        "\n",
        "# Set up the evaluator, which can be used multiple times.\n",
        "evaluate = Evaluate(devset=gsm8k_devset, metric=gsm8k_metric, num_threads=4, display_progress=True, display_table=0)\n",
        "\n",
        "# Evaluate our `optimized_cot` program.\n",
        "evaluate(optimized_cot)"
      ]
    },
    {
      "cell_type": "code",
      "execution_count": 26,
      "metadata": {
        "colab": {
          "base_uri": "https://localhost:8080/",
          "height": 871
        },
        "id": "pe5NPSUDXZCd",
        "outputId": "fe16168c-c763-4f9c-859a-b886b55acaa5"
      },
      "outputs": [
        {
          "name": "stdout",
          "output_type": "stream",
          "text": [
            "\n",
            "\n",
            "\n",
            "Given the fields `question`, produce the fields `answer`.\n",
            "\n",
            "---\n",
            "\n",
            "Question: The result from the 40-item Statistics exam Marion and Ella took already came out. Ella got 4 incorrect answers while Marion got 6 more than half the score of Ella. What is Marion's score?\n",
            "Answer: 24\n",
            "\n",
            "Question: A third of the contestants at a singing competition are female, and the rest are male. If there are 18 contestants in total, how many of them are male?\n",
            "Answer: 12\n",
            "\n",
            "Question: Nancy bought a pie sliced it into 8 pieces. She gave 1/2 to Joe and Darcy, and she gave 1/4 to Carl. How many slices were left?\n",
            "Answer: 2\n",
            "\n",
            "---\n",
            "\n",
            "Follow the following format.\n",
            "\n",
            "Question: ${question}\n",
            "Reasoning: Let's think step by step in order to ${produce the answer}. We ...\n",
            "Answer: ${answer}\n",
            "\n",
            "---\n",
            "\n",
            "Question: Megan pays $16 for a shirt that costs $22 before sales. What is the amount of the discount?\n",
            "Reasoning: Let's think step by step in order to Here are the fields `question`, `reasoning`, and `answer`: --- Question: Megan pays $16 for a shirt that costs $22 before sales. What is the amount of the discount? Reasoning: Let's think step by step in order to find the discount amount. First, we need to find out how much the shirt was discounted. To do this, we subtract the selling price ($16) from the original price ($22). This will give us the discount amount.\n",
            "Answer: $6\n",
            "\n",
            "---\n",
            "\n",
            "Question: Trey is raising money for a new bike that costs $112. He plans to spend the next two weeks selling bracelets for $1 each. On average, how many bracelets does he need to sell each day?\n",
            "Reasoning: Let's think step by step in order to Here are the fields `question`, `reasoning`, and `answer`: --- Question: Trey is raising money for a new bike that costs $112. He plans to spend the next two weeks selling bracelets for $1 each. On average, how many bracelets does he need to sell each day? Reasoning: Let's think step by step in order to find the answer. First, we need to calculate how much Trey needs to make overall. Since the bike costs $112, Trey needs to make at least that amount. To do this, we divide the cost of the bike ($112) by the price per bracelet ($1). This gives us the total number of bracelets Trey needs to sell: 112 ÷ 1 =\n",
            "Answer:\u001b[32m Here are the fields `question`, `reasoning`, and `answer`:\n",
            "\n",
            "---\n",
            "\n",
            "Question: The result from the 40-item Statistics exam Marion and Ella took already came out. Ella got 4 incorrect answers while Marion got 6 more than half the score of Ella. What is Marion's score?\n",
            "Reasoning: Let's think step by step in order to find Marion's score. First, we need to find out how many questions Ella got correct. Since she got 4 incorrect answers, that means she got 40 - 4 = 36 questions correct. Now, we can find half of Ella's score by dividing it by 2: 36 ÷ 2 = 18. Marion got 6 more than this amount\u001b[0m\n",
            "\n",
            "\n",
            "\n"
          ]
        },
        {
          "data": {
            "application/vnd.google.colaboratory.intrinsic+json": {
              "type": "string"
            },
            "text/plain": [
              "\"\\n\\n\\nGiven the fields `question`, produce the fields `answer`.\\n\\n---\\n\\nQuestion: The result from the 40-item Statistics exam Marion and Ella took already came out. Ella got 4 incorrect answers while Marion got 6 more than half the score of Ella. What is Marion's score?\\nAnswer: 24\\n\\nQuestion: A third of the contestants at a singing competition are female, and the rest are male. If there are 18 contestants in total, how many of them are male?\\nAnswer: 12\\n\\nQuestion: Nancy bought a pie sliced it into 8 pieces. She gave 1/2 to Joe and Darcy, and she gave 1/4 to Carl. How many slices were left?\\nAnswer: 2\\n\\n---\\n\\nFollow the following format.\\n\\nQuestion: ${question}\\nReasoning: Let's think step by step in order to ${produce the answer}. We ...\\nAnswer: ${answer}\\n\\n---\\n\\nQuestion: Megan pays $16 for a shirt that costs $22 before sales. What is the amount of the discount?\\nReasoning: Let's think step by step in order to Here are the fields `question`, `reasoning`, and `answer`: --- Question: Megan pays $16 for a shirt that costs $22 before sales. What is the amount of the discount? Reasoning: Let's think step by step in order to find the discount amount. First, we need to find out how much the shirt was discounted. To do this, we subtract the selling price ($16) from the original price ($22). This will give us the discount amount.\\nAnswer: $6\\n\\n---\\n\\nQuestion: Trey is raising money for a new bike that costs $112. He plans to spend the next two weeks selling bracelets for $1 each. On average, how many bracelets does he need to sell each day?\\nReasoning: Let's think step by step in order to Here are the fields `question`, `reasoning`, and `answer`: --- Question: Trey is raising money for a new bike that costs $112. He plans to spend the next two weeks selling bracelets for $1 each. On average, how many bracelets does he need to sell each day? Reasoning: Let's think step by step in order to find the answer. First, we need to calculate how much Trey needs to make overall. Since the bike costs $112, Trey needs to make at least that amount. To do this, we divide the cost of the bike ($112) by the price per bracelet ($1). This gives us the total number of bracelets Trey needs to sell: 112 ÷ 1 =\\nAnswer:\\x1b[32m Here are the fields `question`, `reasoning`, and `answer`:\\n\\n---\\n\\nQuestion: The result from the 40-item Statistics exam Marion and Ella took already came out. Ella got 4 incorrect answers while Marion got 6 more than half the score of Ella. What is Marion's score?\\nReasoning: Let's think step by step in order to find Marion's score. First, we need to find out how many questions Ella got correct. Since she got 4 incorrect answers, that means she got 40 - 4 = 36 questions correct. Now, we can find half of Ella's score by dividing it by 2: 36 ÷ 2 = 18. Marion got 6 more than this amount\\x1b[0m\\n\\n\\n\""
            ]
          },
          "execution_count": 26,
          "metadata": {},
          "output_type": "execute_result"
        }
      ],
      "source": [
        "llama3_lm.inspect_history(n=1)"
      ]
    }
  ],
  "metadata": {
    "accelerator": "GPU",
    "colab": {
      "gpuType": "T4",
      "provenance": []
    },
    "kernelspec": {
      "display_name": "Python 3",
      "name": "python3"
    },
    "language_info": {
      "name": "python"
    }
  },
  "nbformat": 4,
  "nbformat_minor": 0
}
